{
 "cells": [
  {
   "cell_type": "code",
   "execution_count": 1,
   "metadata": {},
   "outputs": [],
   "source": [
    "import math\n",
    "import numpy as np\n",
    "import pandas as pd\n",
    "from sklearn.preprocessing import MinMaxScaler\n",
    "from keras.models import Sequential\n",
    "from keras.layers import Dense, LSTM\n",
    "import matplotlib.pyplot as plt\n",
    "import yfinance as yf\n",
    "plt.style.use('fivethirtyeight')"
   ]
  },
  {
   "cell_type": "code",
   "execution_count": 2,
   "metadata": {},
   "outputs": [
    {
     "name": "stderr",
     "output_type": "stream",
     "text": [
      "[*********************100%%**********************]  1 of 1 completed\n"
     ]
    },
    {
     "data": {
      "text/html": [
       "<div>\n",
       "<style scoped>\n",
       "    .dataframe tbody tr th:only-of-type {\n",
       "        vertical-align: middle;\n",
       "    }\n",
       "\n",
       "    .dataframe tbody tr th {\n",
       "        vertical-align: top;\n",
       "    }\n",
       "\n",
       "    .dataframe thead th {\n",
       "        text-align: right;\n",
       "    }\n",
       "</style>\n",
       "<table border=\"1\" class=\"dataframe\">\n",
       "  <thead>\n",
       "    <tr style=\"text-align: right;\">\n",
       "      <th></th>\n",
       "      <th>Open</th>\n",
       "      <th>High</th>\n",
       "      <th>Low</th>\n",
       "      <th>Close</th>\n",
       "      <th>Adj Close</th>\n",
       "      <th>Volume</th>\n",
       "    </tr>\n",
       "    <tr>\n",
       "      <th>Date</th>\n",
       "      <th></th>\n",
       "      <th></th>\n",
       "      <th></th>\n",
       "      <th></th>\n",
       "      <th></th>\n",
       "      <th></th>\n",
       "    </tr>\n",
       "  </thead>\n",
       "  <tbody>\n",
       "    <tr>\n",
       "      <th>2020-01-02</th>\n",
       "      <td>14.50</td>\n",
       "      <td>14.84</td>\n",
       "      <td>14.48</td>\n",
       "      <td>14.83</td>\n",
       "      <td>14.83</td>\n",
       "      <td>109370878</td>\n",
       "    </tr>\n",
       "    <tr>\n",
       "      <th>2020-01-03</th>\n",
       "      <td>14.67</td>\n",
       "      <td>14.73</td>\n",
       "      <td>14.09</td>\n",
       "      <td>14.27</td>\n",
       "      <td>14.27</td>\n",
       "      <td>153873531</td>\n",
       "    </tr>\n",
       "    <tr>\n",
       "      <th>2020-01-06</th>\n",
       "      <td>14.03</td>\n",
       "      <td>14.08</td>\n",
       "      <td>13.50</td>\n",
       "      <td>13.57</td>\n",
       "      <td>13.57</td>\n",
       "      <td>136423179</td>\n",
       "    </tr>\n",
       "    <tr>\n",
       "      <th>2020-01-07</th>\n",
       "      <td>13.79</td>\n",
       "      <td>13.86</td>\n",
       "      <td>13.52</td>\n",
       "      <td>13.54</td>\n",
       "      <td>13.54</td>\n",
       "      <td>154729229</td>\n",
       "    </tr>\n",
       "    <tr>\n",
       "      <th>2020-01-08</th>\n",
       "      <td>13.05</td>\n",
       "      <td>13.62</td>\n",
       "      <td>13.03</td>\n",
       "      <td>13.50</td>\n",
       "      <td>13.50</td>\n",
       "      <td>197012716</td>\n",
       "    </tr>\n",
       "    <tr>\n",
       "      <th>...</th>\n",
       "      <td>...</td>\n",
       "      <td>...</td>\n",
       "      <td>...</td>\n",
       "      <td>...</td>\n",
       "      <td>...</td>\n",
       "      <td>...</td>\n",
       "    </tr>\n",
       "    <tr>\n",
       "      <th>2024-02-21</th>\n",
       "      <td>282.50</td>\n",
       "      <td>285.00</td>\n",
       "      <td>277.75</td>\n",
       "      <td>279.25</td>\n",
       "      <td>279.25</td>\n",
       "      <td>33090339</td>\n",
       "    </tr>\n",
       "    <tr>\n",
       "      <th>2024-02-22</th>\n",
       "      <td>281.00</td>\n",
       "      <td>287.25</td>\n",
       "      <td>280.75</td>\n",
       "      <td>285.00</td>\n",
       "      <td>285.00</td>\n",
       "      <td>45275866</td>\n",
       "    </tr>\n",
       "    <tr>\n",
       "      <th>2024-02-23</th>\n",
       "      <td>286.00</td>\n",
       "      <td>288.00</td>\n",
       "      <td>282.00</td>\n",
       "      <td>286.50</td>\n",
       "      <td>286.50</td>\n",
       "      <td>36388629</td>\n",
       "    </tr>\n",
       "    <tr>\n",
       "      <th>2024-02-26</th>\n",
       "      <td>288.00</td>\n",
       "      <td>290.50</td>\n",
       "      <td>284.75</td>\n",
       "      <td>285.50</td>\n",
       "      <td>285.50</td>\n",
       "      <td>46586805</td>\n",
       "    </tr>\n",
       "    <tr>\n",
       "      <th>2024-02-27</th>\n",
       "      <td>286.50</td>\n",
       "      <td>287.50</td>\n",
       "      <td>280.00</td>\n",
       "      <td>280.25</td>\n",
       "      <td>280.25</td>\n",
       "      <td>44532372</td>\n",
       "    </tr>\n",
       "  </tbody>\n",
       "</table>\n",
       "<p>1043 rows × 6 columns</p>\n",
       "</div>"
      ],
      "text/plain": [
       "              Open    High     Low   Close  Adj Close     Volume\n",
       "Date                                                            \n",
       "2020-01-02   14.50   14.84   14.48   14.83      14.83  109370878\n",
       "2020-01-03   14.67   14.73   14.09   14.27      14.27  153873531\n",
       "2020-01-06   14.03   14.08   13.50   13.57      13.57  136423179\n",
       "2020-01-07   13.79   13.86   13.52   13.54      13.54  154729229\n",
       "2020-01-08   13.05   13.62   13.03   13.50      13.50  197012716\n",
       "...            ...     ...     ...     ...        ...        ...\n",
       "2024-02-21  282.50  285.00  277.75  279.25     279.25   33090339\n",
       "2024-02-22  281.00  287.25  280.75  285.00     285.00   45275866\n",
       "2024-02-23  286.00  288.00  282.00  286.50     286.50   36388629\n",
       "2024-02-26  288.00  290.50  284.75  285.50     285.50   46586805\n",
       "2024-02-27  286.50  287.50  280.00  280.25     280.25   44532372\n",
       "\n",
       "[1043 rows x 6 columns]"
      ]
     },
     "execution_count": 2,
     "metadata": {},
     "output_type": "execute_result"
    }
   ],
   "source": [
    "start = '2020-01-01'\n",
    "end = '2024-02-28'\n",
    "df = yf.download('THYAO.IS', start=start, end=end)\n",
    "df"
   ]
  },
  {
   "cell_type": "code",
   "execution_count": 3,
   "metadata": {},
   "outputs": [
    {
     "data": {
      "image/png": "[encoded data removed]",
      "text/plain": [
       "<Figure size 1200x600 with 1 Axes>"
      ]
     },
     "metadata": {},
     "output_type": "display_data"
    }
   ],
   "source": [
    "# kapanış verisini tarihe göre görselleştir\n",
    "plt.figure(figsize=(12, 6))\n",
    "plt.title(\"Close Price History\")\n",
    "plt.plot(df['Close'])\n",
    "plt.ylabel('Close Price')\n",
    "plt.xlabel('Date')\n",
    "plt.show()"
   ]
  },
  {
   "cell_type": "code",
   "execution_count": 4,
   "metadata": {},
   "outputs": [
    {
     "data": {
      "text/plain": [
       "835"
      ]
     },
     "execution_count": 4,
     "metadata": {},
     "output_type": "execute_result"
    }
   ],
   "source": [
    "# kapanış verisini filtrele\n",
    "data = df.filter(['Close'])\n",
    "# numpy dizisini dönüştür\n",
    "dataset = data.values\n",
    "# eğitim seti oluştur %80'lik\n",
    "training_data_len = math.ceil(len(dataset) * 0.8)\n",
    "training_data_len"
   ]
  },
  {
   "cell_type": "code",
   "execution_count": 5,
   "metadata": {},
   "outputs": [
    {
     "data": {
      "text/plain": [
       "array([[0.02470297],\n",
       "       [0.02275182],\n",
       "       [0.02031288],\n",
       "       ...,\n",
       "       [0.97125536],\n",
       "       [0.96777116],\n",
       "       [0.94947911]])"
      ]
     },
     "execution_count": 5,
     "metadata": {},
     "output_type": "execute_result"
    }
   ],
   "source": [
    "# veriyi ölçeklendir\n",
    "scaler = MinMaxScaler(feature_range=(0, 1))\n",
    "scaled_data = scaler.fit_transform(dataset)\n",
    "scaled_data"
   ]
  },
  {
   "cell_type": "code",
   "execution_count": 6,
   "metadata": {},
   "outputs": [],
   "source": [
    "# eğitim veri seti oluştur\n",
    "# ölçeklendirilmiş eğitim seti oluştur\n",
    "train_data = scaled_data[0: training_data_len, :]\n",
    "# X_train and y_train olarak veriyi ikiye böl\n",
    "X_train = []\n",
    "y_train = []\n",
    "\n",
    "for i in range(60, len(train_data)):\n",
    "    X_train.append(train_data[i-60:i, 0])\n",
    "    y_train.append(train_data[i, 0])"
   ]
  },
  {
   "cell_type": "code",
   "execution_count": 7,
   "metadata": {},
   "outputs": [],
   "source": [
    "#  iki seti de numpy dizisine dönüştür\n",
    "X_train, y_train = np.array(X_train), np.array(y_train)"
   ]
  },
  {
   "cell_type": "code",
   "execution_count": 8,
   "metadata": {},
   "outputs": [
    {
     "data": {
      "text/plain": [
       "(775, 60)"
      ]
     },
     "metadata": {},
     "output_type": "display_data"
    },
    {
     "data": {
      "text/plain": [
       "(775, 60, 1)"
      ]
     },
     "metadata": {},
     "output_type": "display_data"
    }
   ],
   "source": [
    "# 3-boyutlu olacak şekilde veriyi yeniden şekillendir\n",
    "display(X_train.shape)\n",
    "X_train = np.reshape(X_train, (X_train.shape[0], X_train.shape[1], 1))\n",
    "display(X_train.shape)"
   ]
  },
  {
   "cell_type": "code",
   "execution_count": 9,
   "metadata": {},
   "outputs": [],
   "source": [
    "# LSTM modelini oluştur\n",
    "model = Sequential()\n",
    "model.add(LSTM(50, input_shape=(X_train.shape[1], 1), return_sequences=True))\n",
    "model.add(LSTM(50, return_sequences=False))\n",
    "model.add(Dense(25))\n",
    "model.add(Dense(1))"
   ]
  },
  {
   "cell_type": "code",
   "execution_count": 10,
   "metadata": {},
   "outputs": [],
   "source": [
    "# model derleme\n",
    "model.compile(optimizer='adam', loss='mean_squared_error')"
   ]
  },
  {
   "cell_type": "code",
   "execution_count": 11,
   "metadata": {},
   "outputs": [
    {
     "name": "stdout",
     "output_type": "stream",
     "text": [
      "775/775 [==============================] - 15s 15ms/step - loss: 9.3291e-04\n"
     ]
    },
    {
     "data": {
      "text/plain": [
       "<keras.src.callbacks.History at 0x29f1f501e50>"
      ]
     },
     "execution_count": 11,
     "metadata": {},
     "output_type": "execute_result"
    }
   ],
   "source": [
    "# model eğtimi\n",
    "model.fit(X_train, y_train, batch_size=1, epochs=1)"
   ]
  },
  {
   "cell_type": "code",
   "execution_count": null,
   "metadata": {},
   "outputs": [],
   "source": [
    "# "
   ]
  }
 ],
 "metadata": {
  "kernelspec": {
   "display_name": "base",
   "language": "python",
   "name": "python3"
  },
  "language_info": {
   "codemirror_mode": {
    "name": "ipython",
    "version": 3
   },
   "file_extension": ".py",
   "mimetype": "text/x-python",
   "name": "python",
   "nbconvert_exporter": "python",
   "pygments_lexer": "ipython3",
   "version": "3.11.5"
  }
 },
 "nbformat": 4,
 "nbformat_minor": 2
}
